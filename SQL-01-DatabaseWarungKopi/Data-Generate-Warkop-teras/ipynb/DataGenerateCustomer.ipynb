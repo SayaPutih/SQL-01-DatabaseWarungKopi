{
 "cells": [
  {
   "cell_type": "code",
   "execution_count": 1,
   "metadata": {},
   "outputs": [],
   "source": [
    "import pandas as pd\n",
    "import random\n",
    "import os\n",
    "from faker import Faker\n",
    "fake = Faker()"
   ]
  },
  {
   "cell_type": "code",
   "execution_count": 1,
   "metadata": {},
   "outputs": [
    {
     "ename": "NameError",
     "evalue": "name 'pd' is not defined",
     "output_type": "error",
     "traceback": [
      "\u001b[1;31m---------------------------------------------------------------------------\u001b[0m",
      "\u001b[1;31mNameError\u001b[0m                                 Traceback (most recent call last)",
      "Cell \u001b[1;32mIn[1], line 13\u001b[0m\n\u001b[0;32m      3\u001b[0m columns \u001b[38;5;241m=\u001b[39m [\n\u001b[0;32m      4\u001b[0m     {\u001b[38;5;124m\"\u001b[39m\u001b[38;5;124mname\u001b[39m\u001b[38;5;124m\"\u001b[39m: \u001b[38;5;124m\"\u001b[39m\u001b[38;5;124mid_customer\u001b[39m\u001b[38;5;124m\"\u001b[39m, \u001b[38;5;124m\"\u001b[39m\u001b[38;5;124mtype\u001b[39m\u001b[38;5;124m\"\u001b[39m: \u001b[38;5;124m\"\u001b[39m\u001b[38;5;124mcustom_id\u001b[39m\u001b[38;5;124m\"\u001b[39m},\n\u001b[0;32m      5\u001b[0m     {\u001b[38;5;124m\"\u001b[39m\u001b[38;5;124mname\u001b[39m\u001b[38;5;124m\"\u001b[39m: \u001b[38;5;124m\"\u001b[39m\u001b[38;5;124mfirst_name\u001b[39m\u001b[38;5;124m\"\u001b[39m, \u001b[38;5;124m\"\u001b[39m\u001b[38;5;124mtype\u001b[39m\u001b[38;5;124m\"\u001b[39m: \u001b[38;5;124m\"\u001b[39m\u001b[38;5;124mfirst_name\u001b[39m\u001b[38;5;124m\"\u001b[39m},\n\u001b[1;32m   (...)\u001b[0m\n\u001b[0;32m      9\u001b[0m     {\u001b[38;5;124m\"\u001b[39m\u001b[38;5;124mname\u001b[39m\u001b[38;5;124m\"\u001b[39m: \u001b[38;5;124m\"\u001b[39m\u001b[38;5;124maddress\u001b[39m\u001b[38;5;124m\"\u001b[39m, \u001b[38;5;124m\"\u001b[39m\u001b[38;5;124mtype\u001b[39m\u001b[38;5;124m\"\u001b[39m: \u001b[38;5;124m\"\u001b[39m\u001b[38;5;124maddress\u001b[39m\u001b[38;5;124m\"\u001b[39m}\n\u001b[0;32m     10\u001b[0m ]\n\u001b[0;32m     12\u001b[0m \u001b[38;5;66;03m# Generate synthetic data\u001b[39;00m\n\u001b[1;32m---> 13\u001b[0m synthetic_data \u001b[38;5;241m=\u001b[39m pd\u001b[38;5;241m.\u001b[39mDataFrame()\n\u001b[0;32m     15\u001b[0m \u001b[38;5;66;03m# Generate supporting columns first\u001b[39;00m\n\u001b[0;32m     16\u001b[0m first_names \u001b[38;5;241m=\u001b[39m [fake\u001b[38;5;241m.\u001b[39mfirst_name() \u001b[38;5;28;01mfor\u001b[39;00m _ \u001b[38;5;129;01min\u001b[39;00m \u001b[38;5;28mrange\u001b[39m(num_rows)]\n",
      "\u001b[1;31mNameError\u001b[0m: name 'pd' is not defined"
     ]
    }
   ],
   "source": [
    "# Define the number of rows and the column structure for the synthetic dataset\n",
    "num_rows = 1000  # Change this to the desired number of rows\n",
    "columns = [\n",
    "    {\"name\": \"id_customer\", \"type\": \"custom_id\"},\n",
    "    {\"name\": \"first_name\", \"type\": \"first_name\"},\n",
    "    {\"name\": \"last_name\", \"type\": \"last_name\"},\n",
    "    {\"name\": \"gender\", \"type\": \"gender\"},\n",
    "    {\"name\": \"phone\", \"type\": \"phone\"},\n",
    "    {\"name\": \"address\", \"type\": \"address\"}\n",
    "]\n",
    "\n",
    "# Generate synthetic data\n",
    "synthetic_data = pd.DataFrame()\n",
    "\n",
    "# Generate supporting columns first\n",
    "first_names = [fake.first_name() for _ in range(num_rows)]\n",
    "last_names = [fake.last_name() for _ in range(num_rows)]\n",
    "phones = [f\"{random.randint(1000000000, 9999999999)}\" for _ in range(num_rows)]\n",
    "\n",
    "for column in columns:\n",
    "    if column[\"type\"] == \"custom_id\":\n",
    "        synthetic_data[column[\"name\"]] = [\n",
    "            f\"C-{phone[:3]}-{first[:3]}{last[-3:]}\" \n",
    "            for phone, first, last in zip(phones, first_names, last_names)\n",
    "        ]\n",
    "    elif column[\"type\"] == \"first_name\":\n",
    "        synthetic_data[column[\"name\"]] = first_names\n",
    "    elif column[\"type\"] == \"last_name\":\n",
    "        synthetic_data[column[\"name\"]] = last_names\n",
    "    elif column[\"type\"] == \"gender\":\n",
    "        synthetic_data[column[\"name\"]] = [random.choice([\"M\", \"F\"]) for _ in range(num_rows)]\n",
    "    elif column[\"type\"] == \"phone\":\n",
    "        synthetic_data[column[\"name\"]] = phones\n",
    "    elif column[\"type\"] == \"address\":\n",
    "        synthetic_data[column[\"name\"]] = [fake.address().replace(\"\\n\", \", \") for _ in range(num_rows)]\n",
    "    else:\n",
    "        synthetic_data[column[\"name\"]] = [f\"Data_{i}\" for i in range(1, num_rows + 1)]\n",
    "\n",
    "output_path = \"Registered_Customer_Table.xlsx\"\n",
    "synthetic_data.to_excel(output_path, index=False)\n",
    "\n",
    "print(f\"Synthetic dataset saved to {output_path}\")"
   ]
  },
  {
   "cell_type": "code",
   "execution_count": null,
   "metadata": {},
   "outputs": [
    {
     "name": "stdout",
     "output_type": "stream",
     "text": [
      "Data successfully inserted into MariaDB!\n"
     ]
    }
   ],
   "source": [
    "import pandas as pd\n",
    "import mysql.connector\n",
    "\n",
    "# Define your MariaDB connection\n",
    "server = 'Evander'  # Your server name (hostname)\n",
    "username = 'root'    # Your MariaDB username (root)\n",
    "password = ''        # No password as you mentioned\n",
    "database = 'UASDB'   # The database you want to insert data into\n",
    "table_name = 'registered_customer'  # The table to insert data into\n",
    "\n",
    "# Establish connection\n",
    "conn = mysql.connector.connect(\n",
    "    host=server,\n",
    "    user=username,\n",
    "    password=password,\n",
    "    database=database\n",
    ")\n",
    "cursor = conn.cursor()\n",
    "\n",
    "# Load the dataset\n",
    "input_file = \"Registered_Customer_Table.xlsx\"\n",
    "synthetic_data = pd.read_excel(input_file)\n",
    "\n",
    "# Insert data into MariaDB\n",
    "for index, row in synthetic_data.iterrows():\n",
    "    cursor.execute(f\"\"\"\n",
    "        INSERT INTO {table_name} (id_customer, first_name_c, last_name_c, gender_c, phone_c, alamat_c)\n",
    "        VALUES (%s, %s, %s, %s, %s, %s)\n",
    "    \"\"\", \n",
    "    (row['id_customer'], row['first_name'], row['last_name'], row['gender'], row['phone'], row['address']))\n",
    "\n",
    "# Commit and close connection\n",
    "conn.commit()\n",
    "cursor.close()\n",
    "conn.close()\n",
    "\n",
    "print(\"Data successfully inserted into MariaDB!\")"
   ]
  },
  {
   "cell_type": "code",
   "execution_count": null,
   "metadata": {},
   "outputs": [],
   "source": [
    "#%pip install pandas\n",
    "#%pip install faker\n",
    "#%pip install pyodbc pandas\n",
    "\n",
    "\n",
    "#registered_customer\n",
    "#employee\n",
    "#orders\n",
    "#orderdetails"
   ]
  },
  {
   "cell_type": "code",
   "execution_count": null,
   "metadata": {},
   "outputs": [],
   "source": [
    "# file_path = 'Registered_Customer_Table.xlsx'\n",
    "\n",
    "# if os.path.exists(file_path):\n",
    "#     os.remove(file_path)\n",
    "#     print(f\"File '{file_path}' has been deleted.\")\n",
    "# else:\n",
    "#     print(f\"The file '{file_path}' does not exist.\")"
   ]
  },
  {
   "cell_type": "code",
   "execution_count": null,
   "metadata": {},
   "outputs": [],
   "source": [
    "# import mysql.connector\n",
    "\n",
    "# # Define your MariaDB connection\n",
    "# server = 'Evander'  # Your server name (hostname)\n",
    "# username = 'root'    # Your MariaDB username (root)\n",
    "# password = ''        # No password as you mentioned\n",
    "# database = 'UASDB'   # The database you want to interact with\n",
    "# table_name = 'registered_customer'  # The table to delete data from\n",
    "\n",
    "# # Establish connection\n",
    "# conn = mysql.connector.connect(\n",
    "#     host=server,\n",
    "#     user=username,\n",
    "#     password=password,\n",
    "#     database=database\n",
    "# )\n",
    "# cursor = conn.cursor()\n",
    "\n",
    "# # SQL command to delete all data from the table\n",
    "# delete_query = f\"DELETE FROM {table_name}\"\n",
    "\n",
    "# try:\n",
    "#     # Execute the delete command\n",
    "#     cursor.execute(delete_query)\n",
    "#     conn.commit()  # Commit the transaction\n",
    "#     print(\"All data has been deleted from the table.\")\n",
    "# except mysql.connector.Error as err:\n",
    "#     print(f\"Error: {err}\")\n",
    "# finally:\n",
    "#     # Close the cursor and connection\n",
    "#     cursor.close()\n",
    "#     conn.close()"
   ]
  }
 ],
 "metadata": {
  "kernelspec": {
   "display_name": "base",
   "language": "python",
   "name": "python3"
  },
  "language_info": {
   "codemirror_mode": {
    "name": "ipython",
    "version": 3
   },
   "file_extension": ".py",
   "mimetype": "text/x-python",
   "name": "python",
   "nbconvert_exporter": "python",
   "pygments_lexer": "ipython3",
   "version": "3.12.7"
  }
 },
 "nbformat": 4,
 "nbformat_minor": 2
}
